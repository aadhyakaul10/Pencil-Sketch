{
 "cells": [
  {
   "cell_type": "markdown",
   "metadata": {},
   "source": [
    "SKETCHING\n",
    "this code uses the python openCV library to generate a sketch from the given photo"
   ]
  },
  {
   "cell_type": "code",
   "execution_count": null,
   "metadata": {},
   "outputs": [],
   "source": [
    "import cv2\n",
    "import sys\n",
    "image = cv2.imread(\"Unknown-3.jpeg\")\n",
    "if image is None:\n",
    "    print(\"can not find image\")\n",
    "    sys.exit()\n",
    "grayImage = cv2.cvtColor(image, cv2.COLOR_BGR2GRAY)\n",
    "\n",
    "grayImageInv = 255 - grayImage\n",
    "\n",
    "grayImageInv = cv2.GaussianBlur(grayImageInv, (51, 51), 0)\n",
    "\n",
    "output = cv2.divide(grayImage, 255-grayImageInv, scale=256.0)\n",
    "\n",
    "cv2.namedWindow(\"image\", cv2.WINDOW_AUTOSIZE)\n",
    "\n",
    "cv2.namedWindow(\"pencilsketch\", cv2.WINDOW_AUTOSIZE)\n",
    "\n",
    "cv2.imshow(\"image\", image)\n",
    "\n",
    "cv2.imshow(\"pencilsketch\", output)\n",
    "\n",
    "cv2.waitKey(0)"
   ]
  },
  {
   "cell_type": "code",
   "execution_count": null,
   "metadata": {},
   "outputs": [],
   "source": []
  },
  {
   "cell_type": "code",
   "execution_count": null,
   "metadata": {},
   "outputs": [],
   "source": []
  },
  {
   "cell_type": "code",
   "execution_count": null,
   "metadata": {},
   "outputs": [],
   "source": []
  }
 ],
 "metadata": {
  "kernelspec": {
   "display_name": "Python 3",
   "language": "python",
   "name": "python3"
  },
  "language_info": {
   "codemirror_mode": {
    "name": "ipython",
    "version": 3
   },
   "file_extension": ".py",
   "mimetype": "text/x-python",
   "name": "python",
   "nbconvert_exporter": "python",
   "pygments_lexer": "ipython3",
   "version": "3.7.4"
  }
 },
 "nbformat": 4,
 "nbformat_minor": 2
}
